{
 "cells": [
  {
   "cell_type": "code",
   "execution_count": 32,
   "metadata": {},
   "outputs": [
    {
     "name": "stdout",
     "output_type": "stream",
     "text": [
      "[[708.64285714 708.64285714]]\n"
     ]
    },
    {
     "name": "stderr",
     "output_type": "stream",
     "text": [
      "c:\\Users\\DUSKSTAR\\anaconda3\\envs\\mi_entorno\\lib\\site-packages\\sklearn\\base.py:439: UserWarning: X does not have valid feature names, but DecisionTreeRegressor was fitted with feature names\n",
      "  warnings.warn(\n"
     ]
    }
   ],
   "source": [
    "import pandas as pd\n",
    "from sklearn.tree import DecisionTreeRegressor\n",
    "import joblib\n",
    " # Cargar el dataset\n",
    "dataset = pd.read_csv(r\"C:\\DUSKSTAR\\VS Code\\PROGRAMACION LOCAL\\PYTHON\\resources\\mal_anime.csv\")\n",
    " # Eliminar columnas no deseadas\n",
    "inputs = dataset.drop(columns=[\"Unnamed: 0\",\"status\",\"theme\", \"demographic\", \"type\", \"genres\",\"synopsis\",\"aired\",\"duration\",\"premiered\",\"studios\",\"popularity\"])\n",
    " # Convertir la columna 'episodes' a valores numéricos\n",
    "inputs['episodes'] = pd.to_numeric(inputs['episodes'], errors='coerce')\n",
    " # Convertir la columna 'members' a valores numéricos\n",
    "labels = pd.to_numeric(dataset['members'], errors='coerce')\n",
    " # Eliminar las filas con valores nulos en las columnas relevantes\n",
    "data = pd.concat([inputs, labels], axis=1)\n",
    "data = data.dropna()\n",
    " # Seleccionar las columnas relevantes\n",
    "inputs = data[['episodes']]\n",
    "labels = data['members']\n",
    " # Crear y entrenar el modelo\n",
    "modelo = DecisionTreeRegressor()\n",
    "modelo.fit(inputs, labels)\n",
    " # Hacer predicciones\n",
    "# joblib.dump(modelo, \"animes-ml.joblib\")\n",
    "modelo= joblib.load(\"animes-ml.joblib\")\n",
    "predicciones = modelo.predict([[20]])\n",
    "#  Mostrar el resultado de la predicción\n",
    "print(predicciones)"
   ]
  }
 ],
 "metadata": {
  "kernelspec": {
   "display_name": "mi_entorno",
   "language": "python",
   "name": "python3"
  },
  "language_info": {
   "codemirror_mode": {
    "name": "ipython",
    "version": 3
   },
   "file_extension": ".py",
   "mimetype": "text/x-python",
   "name": "python",
   "nbconvert_exporter": "python",
   "pygments_lexer": "ipython3",
   "version": "3.10.12"
  },
  "orig_nbformat": 4
 },
 "nbformat": 4,
 "nbformat_minor": 2
}
